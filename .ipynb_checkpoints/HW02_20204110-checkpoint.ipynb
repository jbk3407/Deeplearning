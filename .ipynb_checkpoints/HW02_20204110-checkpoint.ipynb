{
 "cells": [
  {
   "cell_type": "markdown",
   "metadata": {},
   "source": [
    "HW02\n",
    "Deep Learning, GIST RT5101-01, 2021, Spring, (Tue/Thurs 2:30~3:45)\n",
    "***\n",
    "\n",
    "\n",
    "How to submit your homework\n",
    "Submit your jupyter notebook file with the filename of HW02_studentnumber.ipynb on GEL\n",
    "Ex) HW02_20184021.ipynb\n",
    "\n",
    "Submission deadline\n",
    "2021.05.12, Wednesday 23:59 (PM)\n",
    "\n",
    "Plagiarism\n",
    "We encourage you to discuss this homework with your friends or TA, but you should write your own code."
   ]
  },
  {
   "cell_type": "markdown",
   "metadata": {},
   "source": [
    "### Problem 1. (Build simple fully connected layer model)\n",
    "- step 1. Build your simple FCN layer by using fully connected layer\n",
    "- step 2. train your own model\n",
    "- Do not use coding lecture sample model connected"
   ]
  },
  {
   "cell_type": "code",
   "execution_count": 2,
   "metadata": {},
   "outputs": [],
   "source": [
    "import torch\n",
    "import torch.nn as nn\n",
    "import torch.nn.functional as F\n",
    "\n",
    "\n",
    "class SimpleFCN(nn.Module):\n",
    "    def __init__(self, num_classes):\n",
    "        super(SimpleFCN, self).__init__()\n",
    "        \n",
    "        self.fc1 = nn.Linear(1024*768*3,2048) # First fully connected layer\n",
    "        self.fc2 = nn.Linear(2048, 512)\n",
    "        self.fc3 = nn.Linear(512, 128)\n",
    "        self.fc4 = nn.Linear(128, num_classes) # final layer that outputs our 10 labels\n",
    "\n",
    "        \n",
    "    def forward(self, x):\n",
    "        out = F.relu(x)\n",
    "        \n",
    "        output = self.fc4(out)\n",
    "\n",
    "        return output\n",
    "\n",
    "\n",
    "        "
   ]
  },
  {
   "cell_type": "markdown",
   "metadata": {},
   "source": [
    "### Problem 2. (dataset code part)\n",
    "- Load your dataset from dataset folder\n",
    "- using rgb dataset ex) cifar10, cifar100\n",
    "- you can use custom dataset from web site ex) dog vs cat"
   ]
  },
  {
   "cell_type": "code",
   "execution_count": 2,
   "metadata": {},
   "outputs": [],
   "source": [
    "from torchvision import datasets, transforms\n",
    "\n",
    "def dataset(is_train):\n",
    "\n",
    "    transform = transforms.Compose(\n",
    "    [transforms.ToTensor(),\n",
    "     transforms.Normalize((0.5, 0.5, 0.5), (0.5, 0.5, 0.5))])\n",
    "\n",
    "    dataset = datasets.ImageFolder(root='./data',transform=transform)\n",
    "\n",
    "    return dataset"
   ]
  },
  {
   "cell_type": "markdown",
   "metadata": {},
   "source": [
    "## Model train"
   ]
  },
  {
   "cell_type": "code",
   "execution_count": 3,
   "metadata": {},
   "outputs": [],
   "source": [
    "def accuracy(output, target, topk=(1,)):\n",
    "    \"\"\"Computes the precision@k for the specified values of k\"\"\"\n",
    "    maxk = max(topk)\n",
    "    batch_size = target.size(0)\n",
    "\n",
    "    _, pred = output.topk(maxk, 1, True, True)\n",
    "    pred = pred.t()\n",
    "    correct = pred.eq(target.view(1, -1).expand_as(pred))\n",
    "\n",
    "    res = []\n",
    "    for k in topk:\n",
    "        correct_k = correct[:k].view(-1).float().sum(0)\n",
    "        res.append(correct_k.mul_(100.0 / batch_size))\n",
    "    return res"
   ]
  },
  {
   "cell_type": "code",
   "execution_count": 4,
   "metadata": {},
   "outputs": [],
   "source": [
    "class AverageMeter(object):\n",
    "    \"\"\"Computes and stores the average and current value\"\"\"\n",
    "    def __init__(self):\n",
    "        self.reset()\n",
    "\n",
    "    def reset(self):\n",
    "        self.val = 0\n",
    "        self.avg = 0\n",
    "        self.sum = 0\n",
    "        self.count = 0\n",
    "\n",
    "    def update(self, val, n=1):\n",
    "        self.val = val\n",
    "        self.sum += val * n\n",
    "        self.count += n\n",
    "        self.avg = self.sum / self.count"
   ]
  },
  {
   "cell_type": "code",
   "execution_count": 16,
   "metadata": {},
   "outputs": [],
   "source": [
    "GPU_NUM = 0\n",
    "lr = 1e-4\n",
    "batch_size = 64\n",
    "epochs = 20\n",
    "\n",
    "device = torch.device(f'cuda:{GPU_NUM}' if torch.cuda.is_available() else 'cpu')\n",
    "\n",
    "\n",
    "train_dataset = dataset(is_train=True)\n",
    "val_dataset = dataset(is_train=False)\n",
    "\n",
    "\n",
    "train_loader = torch.utils.data.DataLoader(train_dataset,\n",
    "                                            batch_size=batch_size,\n",
    "                                            shuffle=True)\n",
    "                                                        \n",
    "val_loader = torch.utils.data.DataLoader(val_dataset,\n",
    "                                            batch_size=batch_size,\n",
    "                                            shuffle=False)\n",
    "\n",
    "\n",
    "model = SimpleFCN(num_classes=10).to(device)\n",
    "\n",
    "optimizer = torch.optim.SGD(model.parameters(), lr, momentum=0.9, weight_decay=5e-4)\n",
    "\n",
    "criterion = nn.CrossEntropyLoss().to(device)\n",
    "\n"
   ]
  },
  {
   "cell_type": "code",
   "execution_count": null,
   "metadata": {
    "tags": []
   },
   "outputs": [],
   "source": [
    "train_loss_arr = []\n",
    "train_acc_arr = []\n",
    "\n",
    "val_loss_arr = []\n",
    "val_acc_arr = []\n",
    "\n",
    "\n",
    "for epoch in range(epochs):\n",
    "\n",
    "    model.train()\n",
    "\n",
    "    losses = AverageMeter()\n",
    "    top1 = AverageMeter()\n",
    "\n",
    "    for i, (data, target) in enumerate(train_loader):\n",
    "        \n",
    "        data = data.to(device)\n",
    "        target = target.to(device)\n",
    "\n",
    "        output = model(data) \n",
    "\n",
    "        loss = criterion(output, target)\n",
    "\n",
    "        output.float()\n",
    "        loss.float()\n",
    "\n",
    "        prec1 = accuracy(output.data, target)\n",
    "        prec1 = prec1[0]\n",
    "\n",
    "        losses.update(loss.item(), data.size(0))\n",
    "        top1.update(prec1.item(), data.size(0))\n",
    "\n",
    "        if i % 100 == 0:\n",
    "            print('Epoch: [{0}][{1}/{2}]\\t'\n",
    "                  'Loss {loss.val:.4f} ({loss.avg:.4f})'.format(epoch, i, len(train_loader), loss=losses))\n",
    "\n",
    "        \n",
    "        optimizer.zero_grad()\n",
    "\n",
    "        loss.backward()\n",
    "\n",
    "        optimizer.step()\n",
    "\n",
    "    train_loss_arr.append(losses.avg)\n",
    "    train_acc_arr.append(top1.avg)\n",
    "    print(\"train result: Loss: {}, Acc: {}\\n\".format(losses.avg, top1.avg))\n",
    "\n",
    "\n",
    "    model.eval()\n",
    "    with torch.no_grad():\n",
    "        val_loss_sum = 0\n",
    "        val_acc_sum = 0\n",
    "\n",
    "        losses = AverageMeter()\n",
    "        top1 = AverageMeter()\n",
    "\n",
    "        for i, (data, target) in enumerate(val_loader):\n",
    "            data = data.to(device)\n",
    "            target = target.to(device)\n",
    "\n",
    "            output = model(data) \n",
    "\n",
    "            loss = criterion(output, target)\n",
    "\n",
    "            output.float()\n",
    "            loss.float()\n",
    "\n",
    "            prec1 = accuracy(output.data, target)\n",
    "\n",
    "            prec1 = prec1[0]\n",
    "            losses.update(loss.item(), data.size(0))\n",
    "            top1.update(prec1.item(), data.size(0))\n",
    "\n",
    "            if i % 100 == 0:\n",
    "                print('Test: [{0}/{1}]\\t'\n",
    "                      'Loss {loss.val:.4f} ({loss.avg:.4f})\\t'\n",
    "                      'Prec@1 {top1.val:.3f} ({top1.avg:.3f})'.format(\n",
    "                          i, len(val_loader), loss=losses, top1=top1))\n",
    "\n",
    "        val_loss_arr.append(losses.avg)\n",
    "        val_acc_arr.append(top1.avg)\n",
    "        print(\"Validation result: Loss: {}, Acc: {}\\n\".format(losses.avg, top1.avg))\n"
   ]
  },
  {
   "cell_type": "markdown",
   "metadata": {},
   "source": [
    "### Problem 3. (Build CNN model with fc layer)\n",
    "- step 1. Build your simple CNN layer by using convolutional layer and fully connected layer\n",
    "- step 2. train your own model\n",
    "- Do not use coding lecture sample model connected"
   ]
  },
  {
   "cell_type": "code",
   "execution_count": null,
   "metadata": {},
   "outputs": [],
   "source": [
    "import torch\n",
    "import torch.nn as nn\n",
    "\n",
    "class CNN_model(nn.Module):\n",
    "    def __init__(self, num_classes):\n",
    "        super(CNN_model, self).__init__()\n",
    "\n",
    "        \n",
    "    def forward(self, x):\n",
    "        \n",
    "        output = \n",
    "\n",
    "        return output"
   ]
  },
  {
   "cell_type": "markdown",
   "metadata": {},
   "source": [
    "### Problem 4. (Compare FCN model and CNN model)\n",
    "- compare two model's performance\n",
    "- subscribe your comment"
   ]
  },
  {
   "cell_type": "markdown",
   "metadata": {},
   "source": [
    "your comment"
   ]
  }
 ],
 "metadata": {
  "kernelspec": {
   "display_name": "Python 3",
   "language": "python",
   "name": "python3"
  },
  "language_info": {
   "codemirror_mode": {
    "name": "ipython",
    "version": 3
   },
   "file_extension": ".py",
   "mimetype": "text/x-python",
   "name": "python",
   "nbconvert_exporter": "python",
   "pygments_lexer": "ipython3",
   "version": "3.7.10"
  },
  "metadata": {
   "interpreter": {
    "hash": "6927d40f424fed17536fb2a7ae3757b3def1cb1d1a33b1812bfe4ee6a451eed4"
   }
  }
 },
 "nbformat": 4,
 "nbformat_minor": 2
}
